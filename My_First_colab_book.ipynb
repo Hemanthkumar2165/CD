{
  "nbformat": 4,
  "nbformat_minor": 0,
  "metadata": {
    "colab": {
      "name": "My First colab book.ipynb",
      "provenance": [],
      "authorship_tag": "ABX9TyOU9cpTmb7kV7w1Uu06kRVF",
      "include_colab_link": true
    },
    "kernelspec": {
      "name": "python3",
      "display_name": "Python 3"
    },
    "language_info": {
      "name": "python"
    }
  },
  "cells": [
    {
      "cell_type": "markdown",
      "metadata": {
        "id": "view-in-github",
        "colab_type": "text"
      },
      "source": [
        "<a href=\"https://colab.research.google.com/github/Hemanthkumar2165/ML2021/blob/main/My_First_colab_book.ipynb\" target=\"_parent\"><img src=\"https://colab.research.google.com/assets/colab-badge.svg\" alt=\"Open In Colab\"/></a>"
      ]
    },
    {
      "cell_type": "markdown",
      "metadata": {
        "id": "TM2qY8xIoWXe"
      },
      "source": [
        "\n",
        "\n",
        "* PRINTING HELLO WORLD\n",
        "\n",
        "\n"
      ]
    },
    {
      "cell_type": "code",
      "metadata": {
        "colab": {
          "base_uri": "https://localhost:8080/"
        },
        "id": "Q_qtBbIAohHY",
        "outputId": "a6aeca29-d843-4901-d2db-b5a7ecd2011f"
      },
      "source": [
        "print('Hello world!')"
      ],
      "execution_count": 2,
      "outputs": [
        {
          "output_type": "stream",
          "text": [
            "Hello world!\n"
          ],
          "name": "stdout"
        }
      ]
    },
    {
      "cell_type": "markdown",
      "metadata": {
        "id": "cFyMppuxpOJs"
      },
      "source": [
        "\n",
        "\n",
        "*   EVEN OR ODD\n",
        "\n"
      ]
    },
    {
      "cell_type": "code",
      "metadata": {
        "colab": {
          "base_uri": "https://localhost:8080/"
        },
        "id": "Y_H5HhumpOnU",
        "outputId": "04114b46-f8d6-46f9-e12f-1e9ecb602870"
      },
      "source": [
        "a=int(input(\"enter a number:\"))\n",
        "if a%2==0:\n",
        "  print(\"Number is even\")\n",
        "else:\n",
        "  print(\"Number is odd\")  \n"
      ],
      "execution_count": 6,
      "outputs": [
        {
          "output_type": "stream",
          "text": [
            "enter a number:7\n",
            "Number is odd\n"
          ],
          "name": "stdout"
        }
      ]
    },
    {
      "cell_type": "markdown",
      "metadata": {
        "id": "6-FhMuhxqOkx"
      },
      "source": [
        "BIGGEST AMONG TWO NUMBERS"
      ]
    },
    {
      "cell_type": "code",
      "metadata": {
        "colab": {
          "base_uri": "https://localhost:8080/"
        },
        "id": "8VTBHcSPqX10",
        "outputId": "a7fe2ef0-8d3f-41d9-f0c0-3f4973a3cf4a"
      },
      "source": [
        "a=int(input(\"enter a num1:\"))\n",
        "b=int(input(\"enter a num2:\"))\n",
        "if a>b:\n",
        "  print(\"a is greatest\")\n",
        "else:\n",
        "  print(\"b is greatest\")  "
      ],
      "execution_count": 5,
      "outputs": [
        {
          "output_type": "stream",
          "text": [
            "enter a num1:73\n",
            "enter a num2:37\n",
            "a is greatest\n"
          ],
          "name": "stdout"
        }
      ]
    }
  ]
}